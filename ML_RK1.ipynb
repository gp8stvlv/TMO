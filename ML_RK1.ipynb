{
 "cells": [
  {
   "cell_type": "markdown",
   "id": "faac499f-2d61-4d45-a5e8-a48497854522",
   "metadata": {},
   "source": [
    "# Пустовалов Григорий Владимирович ИУ5-62Б "
   ]
  },
  {
   "cell_type": "markdown",
   "id": "3322df72-5960-483b-9e7b-7484e1e54c45",
   "metadata": {},
   "source": [
    "## Варинат 18"
   ]
  },
  {
   "cell_type": "markdown",
   "id": "34cce262-22b7-41c3-97c2-7727034a659a",
   "metadata": {},
   "source": [
    "Задача №2. \\\n",
    "Для заданного набора данных проведите обработку пропусков в данных для одного категориального и одного количественного признака. Какие способы обработки пропусков в данных для категориальных и количественных признаков Вы использовали? Какие признаки Вы будете использовать для дальнейшего построения моделей машинного обучения и почему? \\\n",
    "Для студентов групп ИУ5-62Б, ИУ5Ц-82Б - для произвольной колонки данных построить гистограмму. \\\n",
    "Датасет №8"
   ]
  },
  {
   "cell_type": "code",
   "execution_count": 19,
   "id": "c1c64039-fe99-45b2-9c1c-99f9374f597c",
   "metadata": {},
   "outputs": [],
   "source": [
    "import pandas as pd\n",
    "import numpy as np\n",
    "import random"
   ]
  },
  {
   "cell_type": "code",
   "execution_count": 13,
   "id": "d17b9cb9-3422-4f51-96f3-1f74b6398d85",
   "metadata": {},
   "outputs": [],
   "source": [
    "df = pd.read_csv(\"HousingData.csv\")"
   ]
  },
  {
   "cell_type": "code",
   "execution_count": 14,
   "id": "7dc47a7b-8b6d-4f63-a1be-9d27c84db92a",
   "metadata": {},
   "outputs": [
    {
     "data": {
      "text/html": [
       "<div>\n",
       "<style scoped>\n",
       "    .dataframe tbody tr th:only-of-type {\n",
       "        vertical-align: middle;\n",
       "    }\n",
       "\n",
       "    .dataframe tbody tr th {\n",
       "        vertical-align: top;\n",
       "    }\n",
       "\n",
       "    .dataframe thead th {\n",
       "        text-align: right;\n",
       "    }\n",
       "</style>\n",
       "<table border=\"1\" class=\"dataframe\">\n",
       "  <thead>\n",
       "    <tr style=\"text-align: right;\">\n",
       "      <th></th>\n",
       "      <th>CRIM</th>\n",
       "      <th>ZN</th>\n",
       "      <th>INDUS</th>\n",
       "      <th>CHAS</th>\n",
       "      <th>NOX</th>\n",
       "      <th>RM</th>\n",
       "      <th>AGE</th>\n",
       "      <th>DIS</th>\n",
       "      <th>RAD</th>\n",
       "      <th>TAX</th>\n",
       "      <th>PTRATIO</th>\n",
       "      <th>B</th>\n",
       "      <th>LSTAT</th>\n",
       "      <th>MEDV</th>\n",
       "    </tr>\n",
       "  </thead>\n",
       "  <tbody>\n",
       "    <tr>\n",
       "      <th>0</th>\n",
       "      <td>0.00632</td>\n",
       "      <td>18.0</td>\n",
       "      <td>2.31</td>\n",
       "      <td>0.0</td>\n",
       "      <td>0.538</td>\n",
       "      <td>6.575</td>\n",
       "      <td>65.2</td>\n",
       "      <td>4.0900</td>\n",
       "      <td>1</td>\n",
       "      <td>296</td>\n",
       "      <td>15.3</td>\n",
       "      <td>396.90</td>\n",
       "      <td>4.98</td>\n",
       "      <td>24.0</td>\n",
       "    </tr>\n",
       "    <tr>\n",
       "      <th>1</th>\n",
       "      <td>0.02731</td>\n",
       "      <td>0.0</td>\n",
       "      <td>7.07</td>\n",
       "      <td>0.0</td>\n",
       "      <td>0.469</td>\n",
       "      <td>6.421</td>\n",
       "      <td>78.9</td>\n",
       "      <td>4.9671</td>\n",
       "      <td>2</td>\n",
       "      <td>242</td>\n",
       "      <td>17.8</td>\n",
       "      <td>396.90</td>\n",
       "      <td>9.14</td>\n",
       "      <td>21.6</td>\n",
       "    </tr>\n",
       "    <tr>\n",
       "      <th>2</th>\n",
       "      <td>0.02729</td>\n",
       "      <td>0.0</td>\n",
       "      <td>7.07</td>\n",
       "      <td>0.0</td>\n",
       "      <td>0.469</td>\n",
       "      <td>7.185</td>\n",
       "      <td>61.1</td>\n",
       "      <td>4.9671</td>\n",
       "      <td>2</td>\n",
       "      <td>242</td>\n",
       "      <td>17.8</td>\n",
       "      <td>392.83</td>\n",
       "      <td>4.03</td>\n",
       "      <td>34.7</td>\n",
       "    </tr>\n",
       "    <tr>\n",
       "      <th>3</th>\n",
       "      <td>0.03237</td>\n",
       "      <td>0.0</td>\n",
       "      <td>2.18</td>\n",
       "      <td>0.0</td>\n",
       "      <td>0.458</td>\n",
       "      <td>6.998</td>\n",
       "      <td>45.8</td>\n",
       "      <td>6.0622</td>\n",
       "      <td>3</td>\n",
       "      <td>222</td>\n",
       "      <td>18.7</td>\n",
       "      <td>394.63</td>\n",
       "      <td>2.94</td>\n",
       "      <td>33.4</td>\n",
       "    </tr>\n",
       "    <tr>\n",
       "      <th>4</th>\n",
       "      <td>0.06905</td>\n",
       "      <td>0.0</td>\n",
       "      <td>2.18</td>\n",
       "      <td>0.0</td>\n",
       "      <td>0.458</td>\n",
       "      <td>7.147</td>\n",
       "      <td>54.2</td>\n",
       "      <td>6.0622</td>\n",
       "      <td>3</td>\n",
       "      <td>222</td>\n",
       "      <td>18.7</td>\n",
       "      <td>396.90</td>\n",
       "      <td>NaN</td>\n",
       "      <td>36.2</td>\n",
       "    </tr>\n",
       "    <tr>\n",
       "      <th>...</th>\n",
       "      <td>...</td>\n",
       "      <td>...</td>\n",
       "      <td>...</td>\n",
       "      <td>...</td>\n",
       "      <td>...</td>\n",
       "      <td>...</td>\n",
       "      <td>...</td>\n",
       "      <td>...</td>\n",
       "      <td>...</td>\n",
       "      <td>...</td>\n",
       "      <td>...</td>\n",
       "      <td>...</td>\n",
       "      <td>...</td>\n",
       "      <td>...</td>\n",
       "    </tr>\n",
       "    <tr>\n",
       "      <th>501</th>\n",
       "      <td>0.06263</td>\n",
       "      <td>0.0</td>\n",
       "      <td>11.93</td>\n",
       "      <td>0.0</td>\n",
       "      <td>0.573</td>\n",
       "      <td>6.593</td>\n",
       "      <td>69.1</td>\n",
       "      <td>2.4786</td>\n",
       "      <td>1</td>\n",
       "      <td>273</td>\n",
       "      <td>21.0</td>\n",
       "      <td>391.99</td>\n",
       "      <td>NaN</td>\n",
       "      <td>22.4</td>\n",
       "    </tr>\n",
       "    <tr>\n",
       "      <th>502</th>\n",
       "      <td>0.04527</td>\n",
       "      <td>0.0</td>\n",
       "      <td>11.93</td>\n",
       "      <td>0.0</td>\n",
       "      <td>0.573</td>\n",
       "      <td>6.120</td>\n",
       "      <td>76.7</td>\n",
       "      <td>2.2875</td>\n",
       "      <td>1</td>\n",
       "      <td>273</td>\n",
       "      <td>21.0</td>\n",
       "      <td>396.90</td>\n",
       "      <td>9.08</td>\n",
       "      <td>20.6</td>\n",
       "    </tr>\n",
       "    <tr>\n",
       "      <th>503</th>\n",
       "      <td>0.06076</td>\n",
       "      <td>0.0</td>\n",
       "      <td>11.93</td>\n",
       "      <td>0.0</td>\n",
       "      <td>0.573</td>\n",
       "      <td>6.976</td>\n",
       "      <td>91.0</td>\n",
       "      <td>2.1675</td>\n",
       "      <td>1</td>\n",
       "      <td>273</td>\n",
       "      <td>21.0</td>\n",
       "      <td>396.90</td>\n",
       "      <td>5.64</td>\n",
       "      <td>23.9</td>\n",
       "    </tr>\n",
       "    <tr>\n",
       "      <th>504</th>\n",
       "      <td>0.10959</td>\n",
       "      <td>0.0</td>\n",
       "      <td>11.93</td>\n",
       "      <td>0.0</td>\n",
       "      <td>0.573</td>\n",
       "      <td>6.794</td>\n",
       "      <td>89.3</td>\n",
       "      <td>2.3889</td>\n",
       "      <td>1</td>\n",
       "      <td>273</td>\n",
       "      <td>21.0</td>\n",
       "      <td>393.45</td>\n",
       "      <td>6.48</td>\n",
       "      <td>22.0</td>\n",
       "    </tr>\n",
       "    <tr>\n",
       "      <th>505</th>\n",
       "      <td>0.04741</td>\n",
       "      <td>0.0</td>\n",
       "      <td>11.93</td>\n",
       "      <td>0.0</td>\n",
       "      <td>0.573</td>\n",
       "      <td>6.030</td>\n",
       "      <td>NaN</td>\n",
       "      <td>2.5050</td>\n",
       "      <td>1</td>\n",
       "      <td>273</td>\n",
       "      <td>21.0</td>\n",
       "      <td>396.90</td>\n",
       "      <td>7.88</td>\n",
       "      <td>11.9</td>\n",
       "    </tr>\n",
       "  </tbody>\n",
       "</table>\n",
       "<p>506 rows × 14 columns</p>\n",
       "</div>"
      ],
      "text/plain": [
       "        CRIM    ZN  INDUS  CHAS    NOX     RM   AGE     DIS  RAD  TAX  \\\n",
       "0    0.00632  18.0   2.31   0.0  0.538  6.575  65.2  4.0900    1  296   \n",
       "1    0.02731   0.0   7.07   0.0  0.469  6.421  78.9  4.9671    2  242   \n",
       "2    0.02729   0.0   7.07   0.0  0.469  7.185  61.1  4.9671    2  242   \n",
       "3    0.03237   0.0   2.18   0.0  0.458  6.998  45.8  6.0622    3  222   \n",
       "4    0.06905   0.0   2.18   0.0  0.458  7.147  54.2  6.0622    3  222   \n",
       "..       ...   ...    ...   ...    ...    ...   ...     ...  ...  ...   \n",
       "501  0.06263   0.0  11.93   0.0  0.573  6.593  69.1  2.4786    1  273   \n",
       "502  0.04527   0.0  11.93   0.0  0.573  6.120  76.7  2.2875    1  273   \n",
       "503  0.06076   0.0  11.93   0.0  0.573  6.976  91.0  2.1675    1  273   \n",
       "504  0.10959   0.0  11.93   0.0  0.573  6.794  89.3  2.3889    1  273   \n",
       "505  0.04741   0.0  11.93   0.0  0.573  6.030   NaN  2.5050    1  273   \n",
       "\n",
       "     PTRATIO       B  LSTAT  MEDV  \n",
       "0       15.3  396.90   4.98  24.0  \n",
       "1       17.8  396.90   9.14  21.6  \n",
       "2       17.8  392.83   4.03  34.7  \n",
       "3       18.7  394.63   2.94  33.4  \n",
       "4       18.7  396.90    NaN  36.2  \n",
       "..       ...     ...    ...   ...  \n",
       "501     21.0  391.99    NaN  22.4  \n",
       "502     21.0  396.90   9.08  20.6  \n",
       "503     21.0  396.90   5.64  23.9  \n",
       "504     21.0  393.45   6.48  22.0  \n",
       "505     21.0  396.90   7.88  11.9  \n",
       "\n",
       "[506 rows x 14 columns]"
      ]
     },
     "execution_count": 14,
     "metadata": {},
     "output_type": "execute_result"
    }
   ],
   "source": [
    "df"
   ]
  },
  {
   "cell_type": "markdown",
   "id": "6711d63e-65fa-4df2-9a61-df833407d735",
   "metadata": {},
   "source": [
    "Обозначения колонок:\\\n",
    "CRIM - per capita crime rate by town\\\n",
    "ZN - proportion of residential land zoned for lots over 25,000 sq.ft.\\\n",
    "INDUS - proportion of non-retail business acres per town.\\\n",
    "CHAS - Charles River dummy variable (1 if tract bounds river; 0 otherwise)\\\n",
    "NOX - nitric oxides concentration (parts per 10 million)\\\n",
    "RM - average number of rooms per dwelling\\\n",
    "AGE - proportion of owner-occupied units built prior to 1940\\\n",
    "DIS - weighted distances to five Boston employment centres\\\n",
    "RAD - index of accessibility to radial highways\\\n",
    "TAX - full-value property-tax rate per 10,000\\\n",
    "PTRATIO - pupil-teacher ratio by town\\\n",
    "B - 1000(Bk - 0.63)^2 where Bk is the proportion of blacks by town\\\n",
    "LSTAT -  lower status of the population\\\n",
    "MEDV - Median value of owner-occupied homes in $1000's"
   ]
  },
  {
   "cell_type": "code",
   "execution_count": 15,
   "id": "0bc8c481-6713-4f3d-8676-b8a2700abca9",
   "metadata": {},
   "outputs": [
    {
     "data": {
      "text/plain": [
       "CRIM       20\n",
       "ZN         20\n",
       "INDUS      20\n",
       "CHAS       20\n",
       "NOX         0\n",
       "RM          0\n",
       "AGE        20\n",
       "DIS         0\n",
       "RAD         0\n",
       "TAX         0\n",
       "PTRATIO     0\n",
       "B           0\n",
       "LSTAT      20\n",
       "MEDV        0\n",
       "dtype: int64"
      ]
     },
     "execution_count": 15,
     "metadata": {},
     "output_type": "execute_result"
    }
   ],
   "source": [
    "df.isnull().sum()"
   ]
  },
  {
   "cell_type": "markdown",
   "id": "74f74ac1-02b9-4e96-8822-24b193355ea1",
   "metadata": {},
   "source": [
    "Нагенерим категориальных фичей с пропусками"
   ]
  },
  {
   "cell_type": "code",
   "execution_count": 16,
   "id": "ec45cbb7-f366-4757-adbb-5c0506af4f91",
   "metadata": {},
   "outputs": [],
   "source": [
    "df['HOUSE_TYPE'] = pd.Series(random.choices(['victorian', 'modern', 'colonial', 'ranch'], k=df.shape[0]))\n",
    "df['NEIGHBORHOOD_SAFETY'] = pd.Series(random.choices(['low', 'medium', 'high'], k=df.shape[0]))\n",
    "df['AMENITIES_NEARBY'] = pd.Series(random.choices(['none', 'some', 'many'], k=df.shape[0]))"
   ]
  },
  {
   "cell_type": "code",
   "execution_count": 20,
   "id": "c66075aa-f6cd-4f43-94cf-f61c016543c4",
   "metadata": {},
   "outputs": [],
   "source": [
    "np.random.seed(24)  \n",
    "num_missing = int(df.shape[0]*0.1)\n",
    "missing_indices = np.random.choice(df.index.values, num_missing, replace=False)\n",
    "df.loc[missing_indices, ['HOUSE_TYPE', 'NEIGHBORHOOD_SAFETY', 'AMENITIES_NEARBY']] = np.nan"
   ]
  },
  {
   "cell_type": "code",
   "execution_count": 21,
   "id": "acd039f7-afa1-4a73-beac-521482c86ae0",
   "metadata": {},
   "outputs": [
    {
     "data": {
      "text/plain": [
       "CRIM                   20\n",
       "ZN                     20\n",
       "INDUS                  20\n",
       "CHAS                   20\n",
       "NOX                     0\n",
       "RM                      0\n",
       "AGE                    20\n",
       "DIS                     0\n",
       "RAD                     0\n",
       "TAX                     0\n",
       "PTRATIO                 0\n",
       "B                       0\n",
       "LSTAT                  20\n",
       "MEDV                    0\n",
       "HOUSE_TYPE             50\n",
       "NEIGHBORHOOD_SAFETY    50\n",
       "AMENITIES_NEARBY       50\n",
       "dtype: int64"
      ]
     },
     "execution_count": 21,
     "metadata": {},
     "output_type": "execute_result"
    }
   ],
   "source": [
    "df.isnull().sum()"
   ]
  },
  {
   "cell_type": "markdown",
   "id": "0d006da9-fdac-4145-aa10-945defbd553b",
   "metadata": {},
   "source": [
    "Заполним пропуски в категориальных фичах\n",
    "\n"
   ]
  },
  {
   "cell_type": "code",
   "execution_count": 22,
   "id": "d1276235-316f-4927-8263-c0ec85751920",
   "metadata": {},
   "outputs": [
    {
     "name": "stderr",
     "output_type": "stream",
     "text": [
      "/var/folders/gt/yk9f51gj2lj10p76r0lfsbx1zbt95r/T/ipykernel_70612/3780613420.py:3: FutureWarning: A value is trying to be set on a copy of a DataFrame or Series through chained assignment using an inplace method.\n",
      "The behavior will change in pandas 3.0. This inplace method will never work because the intermediate object on which we are setting values always behaves as a copy.\n",
      "\n",
      "For example, when doing 'df[col].method(value, inplace=True)', try using 'df.method({col: value}, inplace=True)' or df[col] = df[col].method(value) instead, to perform the operation inplace on the original object.\n",
      "\n",
      "\n",
      "  df[column].fillna(df[column].mode()[0], inplace=True)\n"
     ]
    }
   ],
   "source": [
    "# Заполнение пропусков модой\n",
    "for column in ['HOUSE_TYPE']:\n",
    "    df[column].fillna(df[column].mode()[0], inplace=True)"
   ]
  },
  {
   "cell_type": "code",
   "execution_count": 33,
   "id": "15bd6af6-3542-4dfd-8033-1e808b2a11b4",
   "metadata": {},
   "outputs": [
    {
     "name": "stderr",
     "output_type": "stream",
     "text": [
      "/var/folders/gt/yk9f51gj2lj10p76r0lfsbx1zbt95r/T/ipykernel_70612/105537617.py:3: FutureWarning: A value is trying to be set on a copy of a DataFrame or Series through chained assignment using an inplace method.\n",
      "The behavior will change in pandas 3.0. This inplace method will never work because the intermediate object on which we are setting values always behaves as a copy.\n",
      "\n",
      "For example, when doing 'df[col].method(value, inplace=True)', try using 'df.method({col: value}, inplace=True)' or df[col] = df[col].method(value) instead, to perform the operation inplace on the original object.\n",
      "\n",
      "\n",
      "  df[column].fillna(method='ffill', inplace=True)\n",
      "/var/folders/gt/yk9f51gj2lj10p76r0lfsbx1zbt95r/T/ipykernel_70612/105537617.py:3: FutureWarning: Series.fillna with 'method' is deprecated and will raise in a future version. Use obj.ffill() or obj.bfill() instead.\n",
      "  df[column].fillna(method='ffill', inplace=True)\n"
     ]
    }
   ],
   "source": [
    "# Заполнение пропусков следующим значеним\n",
    "for column in ['NEIGHBORHOOD_SAFETY']:\n",
    "    df[column].fillna(method='ffill', inplace=True)"
   ]
  },
  {
   "cell_type": "code",
   "execution_count": 39,
   "id": "eed57cb4-f604-4930-acbe-64f33c038727",
   "metadata": {},
   "outputs": [],
   "source": [
    "# Удаление строк с пропусками\n",
    "df = df.dropna(subset=['AMENITIES_NEARBY'])"
   ]
  },
  {
   "cell_type": "code",
   "execution_count": 40,
   "id": "9d5f0bb1-79f0-4d74-9e41-f58cd58afc24",
   "metadata": {},
   "outputs": [
    {
     "data": {
      "text/plain": [
       "CRIM                   19\n",
       "ZN                     18\n",
       "INDUS                  19\n",
       "CHAS                   17\n",
       "NOX                     0\n",
       "RM                      0\n",
       "AGE                    19\n",
       "DIS                     0\n",
       "RAD                     0\n",
       "TAX                     0\n",
       "PTRATIO                 0\n",
       "B                       0\n",
       "LSTAT                  18\n",
       "MEDV                    0\n",
       "HOUSE_TYPE              0\n",
       "NEIGHBORHOOD_SAFETY     0\n",
       "AMENITIES_NEARBY        0\n",
       "dtype: int64"
      ]
     },
     "execution_count": 40,
     "metadata": {},
     "output_type": "execute_result"
    }
   ],
   "source": [
    "df.isnull().sum()"
   ]
  },
  {
   "cell_type": "markdown",
   "id": "839834c1-1dee-4129-b5eb-144b02b0c2f9",
   "metadata": {},
   "source": [
    "Заполним пропуски в количественных фичах"
   ]
  },
  {
   "cell_type": "code",
   "execution_count": 42,
   "id": "162062cf-6a0b-450f-b6ef-b9ecf2d9dd89",
   "metadata": {},
   "outputs": [
    {
     "name": "stderr",
     "output_type": "stream",
     "text": [
      "/var/folders/gt/yk9f51gj2lj10p76r0lfsbx1zbt95r/T/ipykernel_70612/3977795968.py:2: FutureWarning: A value is trying to be set on a copy of a DataFrame or Series through chained assignment using an inplace method.\n",
      "The behavior will change in pandas 3.0. This inplace method will never work because the intermediate object on which we are setting values always behaves as a copy.\n",
      "\n",
      "For example, when doing 'df[col].method(value, inplace=True)', try using 'df.method({col: value}, inplace=True)' or df[col] = df[col].method(value) instead, to perform the operation inplace on the original object.\n",
      "\n",
      "\n",
      "  df['CRIM'].fillna(df['CRIM'].mean(), inplace=True)\n"
     ]
    }
   ],
   "source": [
    "## Заполнение средним значением\n",
    "df['CRIM'].fillna(df['CRIM'].mean(), inplace=True)"
   ]
  },
  {
   "cell_type": "code",
   "execution_count": 43,
   "id": "090191bb-8148-4dbc-8200-31147031a3fa",
   "metadata": {},
   "outputs": [
    {
     "name": "stderr",
     "output_type": "stream",
     "text": [
      "/var/folders/gt/yk9f51gj2lj10p76r0lfsbx1zbt95r/T/ipykernel_70612/1665020841.py:2: FutureWarning: A value is trying to be set on a copy of a DataFrame or Series through chained assignment using an inplace method.\n",
      "The behavior will change in pandas 3.0. This inplace method will never work because the intermediate object on which we are setting values always behaves as a copy.\n",
      "\n",
      "For example, when doing 'df[col].method(value, inplace=True)', try using 'df.method({col: value}, inplace=True)' or df[col] = df[col].method(value) instead, to perform the operation inplace on the original object.\n",
      "\n",
      "\n",
      "  df['ZN'].fillna(df['ZN'].median(), inplace=True)\n"
     ]
    }
   ],
   "source": [
    "## Заполнение медианой\n",
    "df['ZN'].fillna(df['ZN'].median(), inplace=True)"
   ]
  },
  {
   "cell_type": "code",
   "execution_count": 44,
   "id": "76b640a3-32d6-4a6f-8eea-bc3744498eaf",
   "metadata": {},
   "outputs": [
    {
     "name": "stderr",
     "output_type": "stream",
     "text": [
      "/var/folders/gt/yk9f51gj2lj10p76r0lfsbx1zbt95r/T/ipykernel_70612/2284601917.py:2: FutureWarning: A value is trying to be set on a copy of a DataFrame or Series through chained assignment using an inplace method.\n",
      "The behavior will change in pandas 3.0. This inplace method will never work because the intermediate object on which we are setting values always behaves as a copy.\n",
      "\n",
      "For example, when doing 'df[col].method(value, inplace=True)', try using 'df.method({col: value}, inplace=True)' or df[col] = df[col].method(value) instead, to perform the operation inplace on the original object.\n",
      "\n",
      "\n",
      "  df['INDUS'].fillna(df['INDUS'].mode()[0], inplace=True)\n"
     ]
    }
   ],
   "source": [
    "## Заполнение модой\n",
    "df['INDUS'].fillna(df['INDUS'].mode()[0], inplace=True)"
   ]
  },
  {
   "cell_type": "code",
   "execution_count": 45,
   "id": "59ef1021-9878-4d6b-9592-d361bc089b5f",
   "metadata": {},
   "outputs": [
    {
     "name": "stderr",
     "output_type": "stream",
     "text": [
      "/var/folders/gt/yk9f51gj2lj10p76r0lfsbx1zbt95r/T/ipykernel_70612/3088869465.py:2: FutureWarning: A value is trying to be set on a copy of a DataFrame or Series through chained assignment using an inplace method.\n",
      "The behavior will change in pandas 3.0. This inplace method will never work because the intermediate object on which we are setting values always behaves as a copy.\n",
      "\n",
      "For example, when doing 'df[col].method(value, inplace=True)', try using 'df.method({col: value}, inplace=True)' or df[col] = df[col].method(value) instead, to perform the operation inplace on the original object.\n",
      "\n",
      "\n",
      "  df['CHAS'].interpolate(method='linear', inplace=True)\n"
     ]
    }
   ],
   "source": [
    "## Линейная интерполяция\n",
    "df['CHAS'].interpolate(method='linear', inplace=True)"
   ]
  },
  {
   "cell_type": "code",
   "execution_count": 48,
   "id": "32c2bd4c-720a-4e22-851c-9d5392639d01",
   "metadata": {},
   "outputs": [],
   "source": [
    "# Удаление строк с пропусками\n",
    "df = df.dropna(subset=['AGE', 'LSTAT'])"
   ]
  },
  {
   "cell_type": "code",
   "execution_count": 49,
   "id": "3b13337b-039b-4e6c-8c69-3d7b80b8d9a3",
   "metadata": {},
   "outputs": [
    {
     "data": {
      "text/plain": [
       "CRIM                   0\n",
       "ZN                     0\n",
       "INDUS                  0\n",
       "CHAS                   0\n",
       "NOX                    0\n",
       "RM                     0\n",
       "AGE                    0\n",
       "DIS                    0\n",
       "RAD                    0\n",
       "TAX                    0\n",
       "PTRATIO                0\n",
       "B                      0\n",
       "LSTAT                  0\n",
       "MEDV                   0\n",
       "HOUSE_TYPE             0\n",
       "NEIGHBORHOOD_SAFETY    0\n",
       "AMENITIES_NEARBY       0\n",
       "dtype: int64"
      ]
     },
     "execution_count": 49,
     "metadata": {},
     "output_type": "execute_result"
    }
   ],
   "source": [
    "df.isnull().sum()"
   ]
  },
  {
   "cell_type": "markdown",
   "id": "c529c823-88f0-4060-a2cb-a2aa6305c556",
   "metadata": {},
   "source": [
    "## Вывод\n",
    "Выбор метода обработки пропусков в данных зависит от природы этих пропусков и распределения данных самих признаков. \n",
    "\n",
    "Для признаков 'CRIM', 'ZN' и 'INDUS' я выбрал заполнение средним значением, поскольку это дает нам \"среднюю\" картину этих признаков и сохраняет общую тенденцию данных при незначительных и случайных пропусках.\n",
    "\n",
    "На 'NOX' и 'RM', которые могут содержать выбросы или быть скошенными, я бы применил заполнение медианой, чтобы исключить возможное искажение данных. \n",
    "\n",
    "Для 'AGE' я бы использовал заполнение модой, поскольку в предположении, что мода отражает наиболее типичные значения для зданий, она может быть наиболее релевантной для заполнения пропусков.\n",
    "\n",
    "Для 'DIS' я бы использовал линейную интерполяцию, особенно если располагаю временным рядом или некоторыми порядковыми данными, где такой метод может быть наиболее эффективен. \n",
    "\n",
    "Наконец, для категориальных переменных 'HOUSE_TYPE', 'NEIGHBORHOOD_SAFETY' и 'AMENITIES_NEARBY', я бы использовал заполнение наиболее часто встречающимся значением (модой), так как это простой и эффективный способ обработки пропусков в категориальных данных.\n"
   ]
  },
  {
   "cell_type": "markdown",
   "id": "33d0cb8f-1c4a-4f87-a0f6-738417599ba8",
   "metadata": {},
   "source": [
    "При выборе признаков для дальнейшего построения моделей машинного обучения, я бы опирался на важность признаков и их релевантность для задачи, а также на качество информации, содержащейся в этих признаках.\n",
    "\n",
    "Например, признаки 'DIS' (взвешенные расстояния до пяти бостонских центров занятости) и 'AGE' (доля занимаемых владельцами единиц, построенных до 1940 г.) могут быть важными показателями для определения стоимости жилья, поскольку близость к местам работы и возраст зданий обычно влияют на цены на жилье. \n",
    "\n",
    "С другой стороны, новые категориальные признаки 'HOUSE_TYPE', 'NEIGHBORHOOD_SAFETY' и 'AMENITIES_NEARBY' также могут быть полезны, поскольку они могут дать дополнительные сведения о районах и типе жилья, которые также повлияют на стоимость.\n",
    "\n",
    "Наконец, после обработки пропусков в данных, я бы также включил признаки 'CRIM', 'ZN' и 'INDUS' в модель, поскольку они могут иметь отношение к ценам на жилье.\n",
    "\n",
    "Однако стоит иметь в виду, что окончательный выбор признаков зависит от результатов предварительного анализа данных и экспериментов с моделями машинного обучения, и может потребовать дополнительного анализа и исследования.\n"
   ]
  },
  {
   "cell_type": "markdown",
   "id": "d36f4969-b304-436c-bb4c-fd186e47d429",
   "metadata": {},
   "source": [
    "## Доп задание "
   ]
  },
  {
   "cell_type": "code",
   "execution_count": 50,
   "id": "c4bd9498-ae0c-4dc4-ba4f-56a6f6064245",
   "metadata": {},
   "outputs": [
    {
     "data": {
      "image/png": "[encoded data removed]",
      "text/plain": [
       "<Figure size 640x480 with 1 Axes>"
      ]
     },
     "metadata": {},
     "output_type": "display_data"
    }
   ],
   "source": [
    "import matplotlib.pyplot as plt\n",
    "# Построим гистограмму для признака 'CRIM'\n",
    "plt.hist(df['CRIM'], bins=30, edgecolor='black')\n",
    "plt.title('Гистограмма для признака CRIM')\n",
    "plt.xlabel('CRIM')\n",
    "plt.ylabel('Частота')\n",
    "plt.show()\n"
   ]
  }
 ],
 "metadata": {
  "kernelspec": {
   "display_name": "Python 3 (ipykernel)",
   "language": "python",
   "name": "python3"
  },
  "language_info": {
   "codemirror_mode": {
    "name": "ipython",
    "version": 3
   },
   "file_extension": ".py",
   "mimetype": "text/x-python",
   "name": "python",
   "nbconvert_exporter": "python",
   "pygments_lexer": "ipython3",
   "version": "3.12.2"
  }
 },
 "nbformat": 4,
 "nbformat_minor": 5
}
